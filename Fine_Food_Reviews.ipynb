{
 "cells": [
  {
   "cell_type": "code",
   "execution_count": 1,
   "id": "8a4fbe35-a3e3-48cd-aee9-52921c14edd7",
   "metadata": {},
   "outputs": [
    {
     "name": "stdout",
     "output_type": "stream",
     "text": [
      "data loaded successfully\n"
     ]
    }
   ],
   "source": [
    "import pandas as pd\n",
    "import numpy as np\n",
    "import matplotlib.pyplot as plt\n",
    "import seaborn as sns\n",
    "from sklearn.model_selection import train_test_split\n",
    "from sklearn.linear_model import LinearRegression\n",
    "from sklearn.metrics import mean_squared_error, r2_score, classification_report\n",
    "from sklearn.feature_extraction.text import CountVectorizer\n",
    "from sklearn.naive_bayes import MultinomialNB\n",
    "\n",
    "# Ignore all warnings\n",
    "import warnings\n",
    "warnings.filterwarnings('ignore')\n",
    "\n",
    "print(\"data loaded successfully\")"
   ]
  },
  {
   "cell_type": "code",
   "execution_count": 2,
   "id": "b40f2a4d-a89d-44be-bd21-cfbd6cd9317e",
   "metadata": {},
   "outputs": [
    {
     "name": "stdout",
     "output_type": "stream",
     "text": [
      "            Id   ProductId          UserId                      ProfileName  \\\n",
      "0            1  B001E4KFG0  A3SGXH7AUHU8GW                       delmartian   \n",
      "1            2  B00813GRG4  A1D87F6ZCVE5NK                           dll pa   \n",
      "2            3  B000LQOCH0   ABXLMWJIXXAIN  Natalia Corres \"Natalia Corres\"   \n",
      "3            4  B000UA0QIQ  A395BORC6FGVXV                             Karl   \n",
      "4            5  B006K2ZZ7K  A1UQRSCLF8GW1T    Michael D. Bigham \"M. Wassir\"   \n",
      "...        ...         ...             ...                              ...   \n",
      "568449  568450  B001EO7N10  A28KG5XORO54AY                 Lettie D. Carter   \n",
      "568450  568451  B003S1WTCU  A3I8AFVPEE8KI5                        R. Sawyer   \n",
      "568451  568452  B004I613EE  A121AA1GQV751Z                    pksd \"pk_007\"   \n",
      "568452  568453  B004I613EE   A3IBEVCTXKNOH          Kathy A. Welch \"katwel\"   \n",
      "568453  568454  B001LR2CU2  A3LGQPJCZVL9UC                         srfell17   \n",
      "\n",
      "        HelpfulnessNumerator  HelpfulnessDenominator  Score        Time  \\\n",
      "0                          1                       1      5  1303862400   \n",
      "1                          0                       0      1  1346976000   \n",
      "2                          1                       1      4  1219017600   \n",
      "3                          3                       3      2  1307923200   \n",
      "4                          0                       0      5  1350777600   \n",
      "...                      ...                     ...    ...         ...   \n",
      "568449                     0                       0      5  1299628800   \n",
      "568450                     0                       0      2  1331251200   \n",
      "568451                     2                       2      5  1329782400   \n",
      "568452                     1                       1      5  1331596800   \n",
      "568453                     0                       0      5  1338422400   \n",
      "\n",
      "                                   Summary  \\\n",
      "0                    Good Quality Dog Food   \n",
      "1                        Not as Advertised   \n",
      "2                    \"Delight\" says it all   \n",
      "3                           Cough Medicine   \n",
      "4                              Great taffy   \n",
      "...                                    ...   \n",
      "568449                 Will not do without   \n",
      "568450                        disappointed   \n",
      "568451            Perfect for our maltipoo   \n",
      "568452  Favorite Training and reward treat   \n",
      "568453                         Great Honey   \n",
      "\n",
      "                                                     Text  \n",
      "0       I have bought several of the Vitality canned d...  \n",
      "1       Product arrived labeled as Jumbo Salted Peanut...  \n",
      "2       This is a confection that has been around a fe...  \n",
      "3       If you are looking for the secret ingredient i...  \n",
      "4       Great taffy at a great price.  There was a wid...  \n",
      "...                                                   ...  \n",
      "568449  Great for sesame chicken..this is a good if no...  \n",
      "568450  I'm disappointed with the flavor. The chocolat...  \n",
      "568451  These stars are small, so you can give 10-15 o...  \n",
      "568452  These are the BEST treats for training and rew...  \n",
      "568453  I am very satisfied ,product is as advertised,...  \n",
      "\n",
      "[568454 rows x 10 columns]\n",
      "data loaded successfully\n"
     ]
    }
   ],
   "source": [
    "# Load dataset in chunks for big data simulation\n",
    "# file_path = '/mnt/data/Reviews.csv'  # Update with the correct path if needed\n",
    "\n",
    "# Load dataset\n",
    "df_main = pd.read_csv('Reviews.csv') # Read the csv file into a DataFrame\n",
    "\n",
    "df = df_main # Create a copy of the DataFrame\n",
    "chunk_size = 10000  # Process 10,000 rows at a time\n",
    "\n",
    "print(df) # Print the DataFrame to check its contents\n",
    "print(\"data loaded successfully\")"
   ]
  },
  {
   "cell_type": "code",
   "execution_count": 3,
   "id": "63ccaba1-d793-4bea-99b9-f886d8066ba8",
   "metadata": {},
   "outputs": [
    {
     "name": "stdout",
     "output_type": "stream",
     "text": [
      "loaded successfully\n"
     ]
    }
   ],
   "source": [
    "# Initialize empty DataFrame for aggregated results\n",
    "aggregated_data = pd.DataFrame()\n",
    "print(\"loaded successfully\")"
   ]
  },
  {
   "cell_type": "code",
   "execution_count": 4,
   "id": "833dd488-26a4-4422-97b7-b1c46ec395f6",
   "metadata": {},
   "outputs": [
    {
     "name": "stdout",
     "output_type": "stream",
     "text": [
      "loaded successfully\n",
      "loaded successfully\n",
      "loaded successfully\n",
      "loaded successfully\n",
      "loaded successfully\n",
      "loaded successfully\n",
      "loaded successfully\n",
      "loaded successfully\n",
      "loaded successfully\n",
      "loaded successfully\n",
      "loaded successfully\n",
      "loaded successfully\n",
      "loaded successfully\n",
      "loaded successfully\n",
      "loaded successfully\n",
      "loaded successfully\n",
      "loaded successfully\n",
      "loaded successfully\n",
      "loaded successfully\n",
      "loaded successfully\n",
      "loaded successfully\n",
      "loaded successfully\n",
      "loaded successfully\n",
      "loaded successfully\n",
      "loaded successfully\n",
      "loaded successfully\n",
      "loaded successfully\n",
      "loaded successfully\n",
      "loaded successfully\n",
      "loaded successfully\n",
      "loaded successfully\n",
      "loaded successfully\n",
      "loaded successfully\n",
      "loaded successfully\n",
      "loaded successfully\n",
      "loaded successfully\n",
      "loaded successfully\n",
      "loaded successfully\n",
      "loaded successfully\n",
      "loaded successfully\n",
      "loaded successfully\n",
      "loaded successfully\n",
      "loaded successfully\n",
      "loaded successfully\n",
      "loaded successfully\n",
      "loaded successfully\n",
      "loaded successfully\n",
      "loaded successfully\n",
      "loaded successfully\n",
      "loaded successfully\n",
      "loaded successfully\n",
      "loaded successfully\n",
      "loaded successfully\n",
      "loaded successfully\n",
      "loaded successfully\n",
      "loaded successfully\n",
      "loaded successfully\n"
     ]
    }
   ],
   "source": [
    "# Process dataset in chunks\n",
    "for chunk in pd.read_csv('Reviews.csv', chunksize=chunk_size):\n",
    "    # Ensure the column names are properly accessed\n",
    "    if 'Text' in chunk.columns and 'HelpfulnessNumerator' in chunk.columns and 'HelpfulnessDenominator' in chunk.columns:\n",
    "        chunk['HelpfulnessRatio'] = chunk['HelpfulnessNumerator'] / (chunk['HelpfulnessDenominator'] + 1e-5)\n",
    "        chunk['TextLength'] = chunk['Text'].apply(lambda x: len(str(x)))\n",
    "    else:\n",
    "        print(\"One or more required columns are missing in the chunk. Skipping this chunk.\")\n",
    "        continue\n",
    "\n",
    "    # Append chunk-wise processed data to aggregated_data\n",
    "    aggregated_data = pd.concat([aggregated_data, chunk], ignore_index=True)\n",
    "\n",
    "    print(\"loaded successfully\")"
   ]
  },
  {
   "cell_type": "code",
   "execution_count": 5,
   "id": "7ac5ff1e-3548-4dae-8256-6f3817814915",
   "metadata": {},
   "outputs": [
    {
     "name": "stdout",
     "output_type": "stream",
     "text": [
      "Aggregated Dataset Info:\n",
      "<class 'pandas.core.frame.DataFrame'>\n",
      "RangeIndex: 568454 entries, 0 to 568453\n",
      "Data columns (total 12 columns):\n",
      " #   Column                  Non-Null Count   Dtype  \n",
      "---  ------                  --------------   -----  \n",
      " 0   Id                      568454 non-null  int64  \n",
      " 1   ProductId               568454 non-null  object \n",
      " 2   UserId                  568454 non-null  object \n",
      " 3   ProfileName             568428 non-null  object \n",
      " 4   HelpfulnessNumerator    568454 non-null  int64  \n",
      " 5   HelpfulnessDenominator  568454 non-null  int64  \n",
      " 6   Score                   568454 non-null  int64  \n",
      " 7   Time                    568454 non-null  int64  \n",
      " 8   Summary                 568427 non-null  object \n",
      " 9   Text                    568454 non-null  object \n",
      " 10  HelpfulnessRatio        568454 non-null  float64\n",
      " 11  TextLength              568454 non-null  int64  \n",
      "dtypes: float64(1), int64(6), object(5)\n",
      "memory usage: 52.0+ MB\n",
      "None\n",
      "\n",
      "First 5 Rows:\n",
      "    Id   ProductId          UserId                      ProfileName  \\\n",
      "0   1  B001E4KFG0  A3SGXH7AUHU8GW                       delmartian   \n",
      "1   2  B00813GRG4  A1D87F6ZCVE5NK                           dll pa   \n",
      "2   3  B000LQOCH0   ABXLMWJIXXAIN  Natalia Corres \"Natalia Corres\"   \n",
      "3   4  B000UA0QIQ  A395BORC6FGVXV                             Karl   \n",
      "4   5  B006K2ZZ7K  A1UQRSCLF8GW1T    Michael D. Bigham \"M. Wassir\"   \n",
      "\n",
      "   HelpfulnessNumerator  HelpfulnessDenominator  Score        Time  \\\n",
      "0                     1                       1      5  1303862400   \n",
      "1                     0                       0      1  1346976000   \n",
      "2                     1                       1      4  1219017600   \n",
      "3                     3                       3      2  1307923200   \n",
      "4                     0                       0      5  1350777600   \n",
      "\n",
      "                 Summary                                               Text  \\\n",
      "0  Good Quality Dog Food  I have bought several of the Vitality canned d...   \n",
      "1      Not as Advertised  Product arrived labeled as Jumbo Salted Peanut...   \n",
      "2  \"Delight\" says it all  This is a confection that has been around a fe...   \n",
      "3         Cough Medicine  If you are looking for the secret ingredient i...   \n",
      "4            Great taffy  Great taffy at a great price.  There was a wid...   \n",
      "\n",
      "   HelpfulnessRatio  TextLength  \n",
      "0          0.999990         263  \n",
      "1          0.000000         190  \n",
      "2          0.999990         509  \n",
      "3          0.999997         219  \n",
      "4          0.000000         140  \n"
     ]
    }
   ],
   "source": [
    "# Display basic information about the aggregated dataset\n",
    "print(\"Aggregated Dataset Info:\")\n",
    "print(aggregated_data.info())\n",
    "print(\"\\nFirst 5 Rows:\\n\", aggregated_data.head())"
   ]
  },
  {
   "cell_type": "markdown",
   "id": "71275f70-11f0-4c04-80c4-3ca0b6783cd4",
   "metadata": {},
   "source": [
    "## **Task 1: Big Data Analysis**"
   ]
  },
  {
   "cell_type": "code",
   "execution_count": 7,
   "id": "0a1b7b79-b6fc-48de-a4b6-3c3d1b45ebbf",
   "metadata": {},
   "outputs": [
    {
     "data": {
      "image/png": "[encoded data removed]",
      "text/plain": [
       "<Figure size 1000x600 with 1 Axes>"
      ]
     },
     "metadata": {},
     "output_type": "display_data"
    }
   ],
   "source": [
    "# Example analysis: Distribution of Text Length\n",
    "plt.figure(figsize=(10, 6))\n",
    "sns.histplot(aggregated_data['TextLength'], bins=50, kde=True, color='blue')\n",
    "plt.title('Distribution of Review Text Length')\n",
    "plt.xlabel('Text Length')\n",
    "plt.ylabel('Frequency')\n",
    "plt.show()"
   ]
  },
  {
   "cell_type": "code",
   "execution_count": 8,
   "id": "e216bad3-f303-4487-ad29-4a3a567ea580",
   "metadata": {},
   "outputs": [
    {
     "data": {
      "image/png": "[encoded data removed]",
      "text/plain": [
       "<Figure size 1000x600 with 1 Axes>"
      ]
     },
     "metadata": {},
     "output_type": "display_data"
    }
   ],
   "source": [
    "# Example analysis: Helpfulness Ratio Distribution\n",
    "plt.figure(figsize=(10, 6))\n",
    "sns.boxplot(x='Score', y='HelpfulnessRatio', data=aggregated_data)\n",
    "plt.title('Helpfulness Ratio by Score')\n",
    "plt.xlabel('Score')\n",
    "plt.ylabel('Helpfulness Ratio')\n",
    "plt.show()"
   ]
  },
  {
   "cell_type": "code",
   "execution_count": 9,
   "id": "0b5c921e-7060-4d50-a533-bca5b631cb66",
   "metadata": {},
   "outputs": [
    {
     "name": "stdout",
     "output_type": "stream",
     "text": [
      "Processed data saved to Processed_Reviews.csv\n"
     ]
    }
   ],
   "source": [
    "# Save processed data to a new CSV file for further use\n",
    "processed_file_path = 'Processed_Reviews.csv'\n",
    "aggregated_data.to_csv(processed_file_path, index=False)\n",
    "print(f\"Processed data saved to {processed_file_path}\")"
   ]
  },
  {
   "cell_type": "markdown",
   "id": "9db7219d-9664-41a3-8eb1-24b5e491ddcc",
   "metadata": {},
   "source": [
    "## **Task 2: Predictive Analysis (Regression)**"
   ]
  },
  {
   "cell_type": "code",
   "execution_count": 11,
   "id": "c8841ba3-c4f9-4615-bb40-b62613eb845f",
   "metadata": {},
   "outputs": [
    {
     "name": "stdout",
     "output_type": "stream",
     "text": [
      "\n",
      "--- Task 2: Predictive Analysis ---\n"
     ]
    }
   ],
   "source": [
    "# Assuming we predict 'Score' (a numerical value) based on 'HelpfulnessNumerator' and 'HelpfulnessDenominator'\n",
    "print(\"\\n--- Task 2: Predictive Analysis ---\")"
   ]
  },
  {
   "cell_type": "code",
   "execution_count": 12,
   "id": "da96f009-4087-4877-9bb5-2c6058be182c",
   "metadata": {},
   "outputs": [
    {
     "name": "stdout",
     "output_type": "stream",
     "text": [
      "successful\n"
     ]
    }
   ],
   "source": [
    "# Select relevant columns for prediction\n",
    "predictive_df = aggregated_data[['HelpfulnessNumerator', 'HelpfulnessDenominator', 'Score']].dropna()\n",
    "X = predictive_df[['HelpfulnessNumerator', 'HelpfulnessDenominator']]\n",
    "y = predictive_df['Score']\n",
    "print(\"successful\")"
   ]
  },
  {
   "cell_type": "code",
   "execution_count": 13,
   "id": "e9e2568e-e77a-49b9-89c2-f2b898a0a76c",
   "metadata": {},
   "outputs": [
    {
     "name": "stdout",
     "output_type": "stream",
     "text": [
      "successful\n"
     ]
    }
   ],
   "source": [
    "# Split data into training and testing sets\n",
    "X_train, X_test, y_train, y_test = train_test_split(X, y, test_size=0.2, random_state=42)\n",
    "print(\"successful\")"
   ]
  },
  {
   "cell_type": "code",
   "execution_count": 14,
   "id": "c2822dbb-0bbf-44c1-8044-80dca13ff915",
   "metadata": {},
   "outputs": [
    {
     "name": "stdout",
     "output_type": "stream",
     "text": [
      "successful\n"
     ]
    }
   ],
   "source": [
    "# Train a Linear Regression model\n",
    "model = LinearRegression()\n",
    "model.fit(X_train, y_train)\n",
    "print(\"successful\")"
   ]
  },
  {
   "cell_type": "code",
   "execution_count": 15,
   "id": "cd4db497-a230-4f96-8169-8fa6580f610c",
   "metadata": {},
   "outputs": [
    {
     "name": "stdout",
     "output_type": "stream",
     "text": [
      "successful\n"
     ]
    }
   ],
   "source": [
    "# Make predictions\n",
    "y_pred = model.predict(X_test)\n",
    "print(\"successful\")"
   ]
  },
  {
   "cell_type": "code",
   "execution_count": 16,
   "id": "cc6bc5b4-da5f-4f0c-a79c-b4e3ab4599e4",
   "metadata": {},
   "outputs": [
    {
     "name": "stdout",
     "output_type": "stream",
     "text": [
      "Mean Squared Error: 1.5448622811108321\n",
      "R-squared: 0.0927285599830443\n",
      "successful\n"
     ]
    }
   ],
   "source": [
    "# Evaluate the model\n",
    "mse = mean_squared_error(y_test, y_pred)\n",
    "r2 = r2_score(y_test, y_pred)\n",
    "print(f\"Mean Squared Error: {mse}\")\n",
    "print(f\"R-squared: {r2}\")\n",
    "print(\"successful\")"
   ]
  },
  {
   "cell_type": "code",
   "execution_count": 17,
   "id": "02edea77-2423-4ee7-8ae9-fa43c5b5d6c1",
   "metadata": {},
   "outputs": [
    {
     "data": {
      "image/png": "[encoded data removed]",
      "text/plain": [
       "<Figure size 640x480 with 1 Axes>"
      ]
     },
     "metadata": {},
     "output_type": "display_data"
    },
    {
     "data": {
      "text/plain": [
       "'load'"
      ]
     },
     "execution_count": 17,
     "metadata": {},
     "output_type": "execute_result"
    }
   ],
   "source": [
    "# Visualize actual vs predicted\n",
    "plt.scatter(y_test, y_pred)\n",
    "plt.xlabel('Actual Scores')\n",
    "plt.ylabel('Predicted Scores')\n",
    "plt.title('Actual vs Predicted Scores')\n",
    "plt.show()\n",
    "\"load\""
   ]
  },
  {
   "cell_type": "markdown",
   "id": "d3d0d61b-e3d1-420b-b761-c496417cb40c",
   "metadata": {},
   "source": [
    "##  **Task 4: Sentiment Analysis**"
   ]
  },
  {
   "cell_type": "code",
   "execution_count": 19,
   "id": "dfe2d0e7-c71a-4d5a-bda5-cc41ba523ba1",
   "metadata": {},
   "outputs": [
    {
     "name": "stdout",
     "output_type": "stream",
     "text": [
      "successful\n"
     ]
    }
   ],
   "source": [
    "# Consider 'Text' for reviews and 'Score' for sentiment (positive: Score >= 4, negative: Score <= 2)\n",
    "sentiment_df = aggregated_data[['Text', 'Score']].dropna()\n",
    "sentiment_df['Sentiment'] = sentiment_df['Score'].apply(lambda x: 'positive' if x >= 4 else ('negative' if x <= 2 else 'neutral'))\n",
    "sentiment_df = sentiment_df[sentiment_df['Sentiment'] != 'neutral']  # Remove neutral for binary classification\n",
    "print(\"successful\")"
   ]
  },
  {
   "cell_type": "code",
   "execution_count": 20,
   "id": "a593147c-9a4a-478f-ad52-d70e0e3f66da",
   "metadata": {},
   "outputs": [
    {
     "name": "stdout",
     "output_type": "stream",
     "text": [
      "successful\n"
     ]
    }
   ],
   "source": [
    "# Prepare data for text vectorization\n",
    "X_text = sentiment_df['Text']\n",
    "y_sentiment = sentiment_df['Sentiment']\n",
    "print(\"successful\")"
   ]
  },
  {
   "cell_type": "code",
   "execution_count": 21,
   "id": "182cb7da-d34a-449a-8b95-fd3fa1829269",
   "metadata": {},
   "outputs": [
    {
     "name": "stdout",
     "output_type": "stream",
     "text": [
      "successful\n"
     ]
    }
   ],
   "source": [
    "# Convert text to numerical features using CountVectorizer\n",
    "vectorizer = CountVectorizer(stop_words='english', max_features=5000)\n",
    "X_text_vectorized = vectorizer.fit_transform(X_text)\n",
    "print(\"successful\")"
   ]
  },
  {
   "cell_type": "code",
   "execution_count": 22,
   "id": "dc676019-c4d4-48ca-bb09-688a52229dcb",
   "metadata": {},
   "outputs": [
    {
     "name": "stdout",
     "output_type": "stream",
     "text": [
      "successful\n"
     ]
    }
   ],
   "source": [
    "# Split data into training and testing sets\n",
    "X_train_text, X_test_text, y_train_sentiment, y_test_sentiment = train_test_split(X_text_vectorized, y_sentiment, test_size=0.2, random_state=42)\n",
    "print(\"successful\")"
   ]
  },
  {
   "cell_type": "code",
   "execution_count": 23,
   "id": "d6e18299-b0e9-408a-be9e-52946cb23a0d",
   "metadata": {},
   "outputs": [
    {
     "name": "stdout",
     "output_type": "stream",
     "text": [
      "successful\n"
     ]
    }
   ],
   "source": [
    "# Train a Naive Bayes model\n",
    "nb_model = MultinomialNB()\n",
    "nb_model.fit(X_train_text, y_train_sentiment)\n",
    "print(\"successful\")"
   ]
  },
  {
   "cell_type": "code",
   "execution_count": 24,
   "id": "c2a31944-e4e4-4aef-b71f-91d908e7f12b",
   "metadata": {},
   "outputs": [
    {
     "name": "stdout",
     "output_type": "stream",
     "text": [
      "successful\n"
     ]
    }
   ],
   "source": [
    "# Make predictions\n",
    "y_pred_sentiment = nb_model.predict(X_test_text)\n",
    "print(\"successful\")"
   ]
  },
  {
   "cell_type": "code",
   "execution_count": 59,
   "id": "5e389d32-77ed-40f8-909c-22366afb4c26",
   "metadata": {},
   "outputs": [
    {
     "name": "stdout",
     "output_type": "stream",
     "text": [
      "Classification Report:\n",
      "               precision    recall  f1-score   support\n",
      "\n",
      "    negative       0.68      0.71      0.69     16379\n",
      "    positive       0.95      0.94      0.94     88784\n",
      "\n",
      "    accuracy                           0.90    105163\n",
      "   macro avg       0.81      0.82      0.82    105163\n",
      "weighted avg       0.90      0.90      0.90    105163\n",
      "\n",
      "successful\n"
     ]
    }
   ],
   "source": [
    "# Evaluate the model\n",
    "print(\"Classification Report:\\n\", classification_report(y_test_sentiment, y_pred_sentiment))\n",
    "print(\"successful\")"
   ]
  },
  {
   "cell_type": "code",
   "execution_count": 61,
   "id": "f4c8babc-9a31-46ac-b55a-fe0c55179f32",
   "metadata": {},
   "outputs": [
    {
     "name": "stdout",
     "output_type": "stream",
     "text": [
      "File saved successfully as Processed_Reviews_1.csv\n"
     ]
    }
   ],
   "source": [
    "# Save DataFrame to CSV file\n",
    "aggregated_data.to_csv(\"Processed_Reviews_1.csv\", index=False)\n",
    "\n",
    "print(\"File saved successfully as Processed_Reviews_1.csv\")"
   ]
  },
  {
   "cell_type": "code",
   "execution_count": null,
   "id": "fbf10f34-ab90-4a08-aec7-a77b4d90d650",
   "metadata": {},
   "outputs": [],
   "source": []
  }
 ],
 "metadata": {
  "kernelspec": {
   "display_name": "Python [conda env:base] *",
   "language": "python",
   "name": "conda-base-py"
  },
  "language_info": {
   "codemirror_mode": {
    "name": "ipython",
    "version": 3
   },
   "file_extension": ".py",
   "mimetype": "text/x-python",
   "name": "python",
   "nbconvert_exporter": "python",
   "pygments_lexer": "ipython3",
   "version": "3.12.7"
  }
 },
 "nbformat": 4,
 "nbformat_minor": 5
}
